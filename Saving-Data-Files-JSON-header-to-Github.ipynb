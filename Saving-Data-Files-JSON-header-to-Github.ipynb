{
 "metadata": {
  "name": "",
  "signature": "sha256:5327434e8163a41469965049e1d9811d508a0094a9514164694ca0d474aba7f5"
 },
 "nbformat": 3,
 "nbformat_minor": 0,
 "worksheets": [
  {
   "cells": [
    {
     "cell_type": "code",
     "collapsed": false,
     "input": [
      "import os"
     ],
     "language": "python",
     "metadata": {},
     "outputs": [],
     "prompt_number": 49
    },
    {
     "cell_type": "markdown",
     "metadata": {},
     "source": [
      "# Create a ``_data`` folder to keep things in harmony with Github pages"
     ]
    },
    {
     "cell_type": "code",
     "collapsed": false,
     "input": [
      "data_dir = '_data'\n",
      "\n",
      "if not os.path.isdir(data_dir):\n",
      "    os.mkdir(data_dir)"
     ],
     "language": "python",
     "metadata": {},
     "outputs": [],
     "prompt_number": 50
    },
    {
     "cell_type": "markdown",
     "metadata": {},
     "source": [
      "> I added some ``*.png`` images of dual phase titanium micrographs.  There is an example Image just below using [Ipython's Rich Display System](http://nbviewer.ipython.org/github/ipython/ipython/blob/1.x/examples/notebooks/Part%205%20-%20Rich%20Display%20System.ipynb)."
     ]
    },
    {
     "cell_type": "code",
     "collapsed": false,
     "input": [
      "from IPython.display import Image\n",
      "Image(filename = os.path.join( data_dir, \n",
      "                              os.listdir(data_dir)[10] ) )"
     ],
     "language": "python",
     "metadata": {},
     "outputs": [
      {
       "ename": "ValueError",
       "evalue": "Cannot embed the 'json' image format",
       "output_type": "pyerr",
       "traceback": [
        "\u001b[0;31m---------------------------------------------------------------------------\u001b[0m\n\u001b[0;31mValueError\u001b[0m                                Traceback (most recent call last)",
        "\u001b[0;32m<ipython-input-51-d0f7bb8edb53>\u001b[0m in \u001b[0;36m<module>\u001b[0;34m()\u001b[0m\n\u001b[1;32m      1\u001b[0m \u001b[0;32mfrom\u001b[0m \u001b[0mIPython\u001b[0m\u001b[0;34m.\u001b[0m\u001b[0mdisplay\u001b[0m \u001b[0;32mimport\u001b[0m \u001b[0mImage\u001b[0m\u001b[0;34m\u001b[0m\u001b[0m\n\u001b[1;32m      2\u001b[0m Image(filename = os.path.join( data_dir, \n\u001b[0;32m----> 3\u001b[0;31m                               os.listdir(data_dir)[10] ) )\n\u001b[0m",
        "\u001b[0;32m//anaconda/lib/python2.7/site-packages/IPython/core/display.pyc\u001b[0m in \u001b[0;36m__init__\u001b[0;34m(self, data, url, filename, format, embed, width, height, retina)\u001b[0m\n\u001b[1;32m    640\u001b[0m \u001b[0;34m\u001b[0m\u001b[0m\n\u001b[1;32m    641\u001b[0m         \u001b[0;32mif\u001b[0m \u001b[0mself\u001b[0m\u001b[0;34m.\u001b[0m\u001b[0membed\u001b[0m \u001b[0;32mand\u001b[0m \u001b[0mself\u001b[0m\u001b[0;34m.\u001b[0m\u001b[0mformat\u001b[0m \u001b[0;32mnot\u001b[0m \u001b[0;32min\u001b[0m \u001b[0mself\u001b[0m\u001b[0;34m.\u001b[0m\u001b[0m_ACCEPTABLE_EMBEDDINGS\u001b[0m\u001b[0;34m:\u001b[0m\u001b[0;34m\u001b[0m\u001b[0m\n\u001b[0;32m--> 642\u001b[0;31m             \u001b[0;32mraise\u001b[0m \u001b[0mValueError\u001b[0m\u001b[0;34m(\u001b[0m\u001b[0;34m\"Cannot embed the '%s' image format\"\u001b[0m \u001b[0;34m%\u001b[0m \u001b[0;34m(\u001b[0m\u001b[0mself\u001b[0m\u001b[0;34m.\u001b[0m\u001b[0mformat\u001b[0m\u001b[0;34m)\u001b[0m\u001b[0;34m)\u001b[0m\u001b[0;34m\u001b[0m\u001b[0m\n\u001b[0m\u001b[1;32m    643\u001b[0m         \u001b[0mself\u001b[0m\u001b[0;34m.\u001b[0m\u001b[0mwidth\u001b[0m \u001b[0;34m=\u001b[0m \u001b[0mwidth\u001b[0m\u001b[0;34m\u001b[0m\u001b[0m\n\u001b[1;32m    644\u001b[0m         \u001b[0mself\u001b[0m\u001b[0;34m.\u001b[0m\u001b[0mheight\u001b[0m \u001b[0;34m=\u001b[0m \u001b[0mheight\u001b[0m\u001b[0;34m\u001b[0m\u001b[0m\n",
        "\u001b[0;31mValueError\u001b[0m: Cannot embed the 'json' image format"
       ]
      }
     ],
     "prompt_number": 51
    },
    {
     "cell_type": "markdown",
     "metadata": {},
     "source": [
      "# Reasons not to share images on Github\n",
      "\n",
      "* They are binary files and cannot be versioned.  They bloat repositories and waste time.  Image hosting sources are best for this.\n",
      "* [Another reason](http://rawgit.com/faq#why)\n",
      "* **They cannot describe multiple modes of data.**\n",
      "\n",
      "# Organic Data Growth\n",
      "\n",
      "A large collection of images may be a strong research foundation for materials science.  These images will have analyzed to produce statistics and other derivatives.  The derivatives should be tethered to the original image.\n",
      "\n",
      "# Organically Markuping Up Image Data\n",
      "\n",
      "## Steps\n",
      "\n",
      "1. Create a new file ``image.ext.json``.  We will refer to this as the ``**data-file header**``\n",
      "\n",
      "    ``image.ext.json`` is a text-based file containing\n",
      "    \n",
      "## YAML or JSON data-file headers\n",
      "\n",
      "The data-file header ``image.ext.json`` extension can also be ``yml`` or ``yaml``.  In that case the the ``json.dumps`` function will need to be replaced with its ``yaml`` equivalent.\n",
      "\n",
      "### Why are we doing this\n",
      "\n",
      "``yaml`` and ``json`` are both machine readable markup languages.  ``yaml`` is built on top of ``json``.  ``json`` is a web standard for moving around data; the header files will descript the contents of their respective fi\n",
      "\n",
      "> If a best coding practices are invoked, header files can be created by adding a single line of code to you research process.\n",
      "\n",
      "# Extending data-file headers to other types\n",
      "\n",
      "This process can be extended to any data-type (e.g. ``mat``,``h5``,``xrm``).\n",
      "\n",
      "```\n",
      "file.mat --header--> file.mat.json\n",
      "```\n",
      "\n",
      "# Programatically Marking Up Datafile headers\n",
      "\n",
      "The next section will show the process for marking up header files on data acquisition and sharing."
     ]
    },
    {
     "cell_type": "code",
     "collapsed": false,
     "input": [
      "import git\n",
      "import json\n",
      "import requests"
     ],
     "language": "python",
     "metadata": {},
     "outputs": []
    },
    {
     "cell_type": "markdown",
     "metadata": {},
     "source": [
      "# Prior Analysis\n",
      "\n",
      "The [Flick Set 72157641959260094](https://www.flickr.com/photos/tonyfast/sets/72157641959260094/) contains images made avaiable before.  The Flickr image title corresponds the filename without the extension.  The below script using the Flickr App Garden.\n",
      "\n",
      "# Flickr App Garden\n",
      "\n",
      "The Flickr App Garden is an easy way to test Flickr API's.  In fact they provide users with temporary authentication information that can be used several times."
     ]
    },
    {
     "cell_type": "code",
     "collapsed": false,
     "input": [
      "# Get Flickr files\n",
      "# This block of code's ``api_key`` and ``api_secret`` expire\n",
      "\n",
      "photoset_id = str(72157641959260094);\n",
      "flickr_set_request = 'https://api.flickr.com/services/rest/?method=flickr.photosets.getPhotos&api_key=b3d68c62a093172ccb5f7a93e5e00c2c&photoset_id=72157641959260094&format=json&nojsoncallback=1&auth_token=72157647496773712-7ab6fc49e913c754&api_sig=d9a97d0c3950aeadc16f5a776dc5b3d7'\n",
      "set_content = requests.get(flickr_set_request);\n",
      "files_in_set = json.loads(set_content.text)"
     ],
     "language": "python",
     "metadata": {},
     "outputs": []
    },
    {
     "cell_type": "markdown",
     "metadata": {},
     "source": [
      "1. Cycle through all images on flickr\n",
      "1. Match Flickr title with local file name\n",
      "1. Append flickr location to the **data-file header**"
     ]
    },
    {
     "cell_type": "markdown",
     "metadata": {},
     "source": [
      "# Make a gitignore file \n",
      "\n",
      "Ignore original binary images."
     ]
    },
    {
     "cell_type": "code",
     "collapsed": false,
     "input": [
      "f = open( os.path.join( os.getcwd(), data_dir, '.gitignore' ), 'w')\n",
      "f.write('*.png\\n')\n",
      "f.close()"
     ],
     "language": "python",
     "metadata": {},
     "outputs": []
    },
    {
     "cell_type": "code",
     "collapsed": false,
     "input": [
      "localfiles = os.listdir( os.path.join( os.getcwd(), data_dir ) )\n",
      "localnames = list()\n",
      "for images in localfiles:\n",
      "    if images != '.DS_Store':\n",
      "        localnames.append(images.split('.')[0])"
     ],
     "language": "python",
     "metadata": {},
     "outputs": []
    },
    {
     "cell_type": "code",
     "collapsed": false,
     "input": [
      "repo = git.Repo( os.path.join( os.getcwd()))\n",
      "index = repo.index"
     ],
     "language": "python",
     "metadata": {},
     "outputs": []
    },
    {
     "cell_type": "code",
     "collapsed": false,
     "input": [
      "for ii,images in enumerate(files_in_set['photoset']['photo']): # Loop over flickr images\n",
      "    # Find the index of the local filename matching the remote title\n",
      "    # Initialize Metadata for the project.\n",
      "    images['title'] = images['title'].replace('_Thresholded','')\n",
      "\n",
      "    \n",
      "    if any( images['title'] in s for s in localnames):\n",
      "        id = localnames.index(str(images['title']))\n",
      "        headerfilename = os.path.join( data_dir, localfiles[id] + '.json' )\n",
      "        \n",
      "        if headerfilename.endswith('.png.json'):\n",
      "            data = dict();\n",
      "            data['origin'] = dict()\n",
      "            data['origin']['name'] = 'Pete Collins'\n",
      "            data['origin']['affiliation'] = 'Ohio State University'\n",
      "            data['local']=dict()\n",
      "            data['remote']=dict()\n",
      "            data['remote']['flickr']=dict()\n",
      "            data['local']['file-name'] = localfiles[id];\n",
      "            data['remote']['flickr']['set-id'] = photoset_id\n",
      "            \n",
      "            # Tags for the processing condition that the samples were processed under.\n",
      "            # Simply an index at this point.\n",
      "            data['tags'] = localnames[id].split('_')[0]\n",
      "            \n",
      "            # Parse the flickr string together\n",
      "            data['remote']['flickr']['thumbnail'] = \\\n",
      "                    'https://farm' + str(images['farm']) + '.staticflickr.com/' +\\\n",
      "                    str(images['server']) + '/' + str(images['id']) + \\\n",
      "                    '_' + str(images['secret']) + '_z.jpg';\n",
      "\n",
      "            with open(headerfilename, 'w') as toheaderfile: \n",
      "                json.dump( data, toheaderfile, ensure_ascii=False )\n",
      "                toheaderfile.close()   \n",
      "                index.add([headerfilename])\n",
      "index.commit('Append thumbnail identifier Medium 640 to the flickr urls')\n",
      "\n"
     ],
     "language": "python",
     "metadata": {},
     "outputs": []
    }
   ],
   "metadata": {}
  }
 ]
}